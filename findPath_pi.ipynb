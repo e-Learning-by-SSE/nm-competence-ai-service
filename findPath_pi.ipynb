{
 "cells": [
  {
   "cell_type": "markdown",
   "id": "5feaf226-862c-4ec8-9655-58b9ca105880",
   "metadata": {},
   "source": [
    "## import of swagger client / calling auth function on Server to get bearer token "
   ]
  },
  {
   "cell_type": "code",
   "execution_count": null,
   "id": "f0e08043-0973-4c8f-94cf-70aabe429d44",
   "metadata": {},
   "outputs": [],
   "source": [
    "\n",
    "import swagger_client\n",
    "import json\n",
    "from swagger_client.rest import ApiException\n",
    "\n",
    "configuration = swagger_client.Configuration()\n",
    "\n",
    "\n",
    "\n",
    "api_client = swagger_client.ApiClient(configuration=configuration)\n",
    "\n",
    "# create an instance of the API class\n",
    "api_instance = swagger_client.AuthenticationApi()\n",
    "mylogin = swagger_client.LoginDto(email = 'java@sse.de', password = 'pw')\n",
    "try:\n",
    "    # Get list of exposure types\n",
    "    print(api_instance.api_client.configuration.api_key_prefix)\n",
    "    api_response = api_instance.auth_controller_login(body = mylogin, async_req=True)\n",
    "    token = api_response.get().access_token \n",
    "    api_client.set_default_header('Authorization', 'Bearer ' + api_response.get().access_token)\n",
    "except ApiException as e:\n",
    "    print(\"Exception when calling Api-> %s\\n\" % e)\n",
    "\n",
    "\n"
   ]
  },
  {
   "cell_type": "markdown",
   "id": "95fd7b45-a864-49c2-92e5-f0465a5a5c52",
   "metadata": {},
   "source": [
    "## setting bearer token / list repositories "
   ]
  },
  {
   "cell_type": "code",
   "execution_count": null,
   "id": "fb5d7477-07cb-4260-8187-7b7277b0d70c",
   "metadata": {},
   "outputs": [],
   "source": [
    "repApi = swagger_client.CompetenciesApi(api_client)\n",
    "\n",
    "print (token)\n",
    "\n",
    "try:\n",
    "    # Get list of exposure types\n",
    "    api_response = repApi.repository_mgmt_controller_list_repositories()\n",
    "    print(api_response)\n",
    "    print(repApi.api_client.configuration.host)\n",
    "except ApiException as e:\n",
    "    print(\"Exception when calling Api-> %s\\n\" % e)\n",
    "# create an instance of the API class\n"
   ]
  },
  {
   "cell_type": "markdown",
   "id": "25eaef96-6c85-4e67-a797-54e1e6dc14e9",
   "metadata": {},
   "source": [
    "## Search for Rep"
   ]
  },
  {
   "cell_type": "code",
   "execution_count": null,
   "id": "51ffbd54-f392-4971-9523-fe4b4a20db9b",
   "metadata": {
    "tags": []
   },
   "outputs": [],
   "source": [
    "repDto = swagger_client.RepositorySearchDto(page_size= 1.0,page= 1.0,name= '1')\n",
    "\n",
    "try:\n",
    "    # Get list of exposure types\n",
    "    api_response = repApi.repository_mgmt_controller_search_for_repositories(repDto)\n",
    "    print(api_response)\n",
    "except ApiException as e:\n",
    "    print(\"Exception when calling Api-> %s\\n\" % e)\n",
    "# create an instance of the API class\n",
    "\n"
   ]
  },
  {
   "cell_type": "markdown",
   "id": "09bbc0c6-063d-4a96-95d8-86b09db212da",
   "metadata": {},
   "source": [
    "## Load Competences by RepoId"
   ]
  },
  {
   "cell_type": "code",
   "execution_count": null,
   "id": "1c34eeda-9c9d-470d-88ef-8cc019579f86",
   "metadata": {
    "tags": []
   },
   "outputs": [],
   "source": [
    "\n",
    "\n",
    "\n",
    "try:\n",
    "    # Get list of exposure types\n",
    "    api_response = repApi.repository_mgmt_controller_load_repository(repository_id=1)\n",
    "    print(api_response)\n",
    "except ApiException as e:\n",
    "    print(\"Exception when calling Api-> %s\\n\" % e)\n",
    "# create an instance of the API class"
   ]
  },
  {
   "cell_type": "markdown",
   "id": "b14474f8-e0a6-4691-b7c0-7a225c55eb87",
   "metadata": {},
   "source": [
    "## Load resolved competences"
   ]
  },
  {
   "cell_type": "code",
   "execution_count": null,
   "id": "b4a3d0f5-962d-4cef-b913-2ad12d9e186d",
   "metadata": {
    "tags": []
   },
   "outputs": [],
   "source": [
    "try:\n",
    "    # Get list of exposure types\n",
    "    my_competencies = repApi.repository_mgmt_controller_load_resolved_repository (repository_id=1)\n",
    "    print(my_competencies)\n",
    "except ApiException as e:\n",
    "    print(\"Exception when calling Api-> %s\\n\" % e)\n",
    "# create an instance of the API class"
   ]
  },
  {
   "cell_type": "code",
   "execution_count": null,
   "id": "ff894320-1adf-4d50-8254-e70690215329",
   "metadata": {},
   "outputs": [],
   "source": []
  },
  {
   "cell_type": "code",
   "execution_count": null,
   "id": "3398133d-cce8-43ec-a51b-28990fe0ad16",
   "metadata": {},
   "outputs": [],
   "source": []
  },
  {
   "cell_type": "markdown",
   "id": "c91da49d-a7f2-41ff-a9a2-a2569c72b0e2",
   "metadata": {},
   "source": [
    "## Goals for Repository "
   ]
  },
  {
   "cell_type": "code",
   "execution_count": null,
   "id": "c63882c6-d858-4d7e-8e75-77d050690a1f",
   "metadata": {},
   "outputs": [],
   "source": [
    "loApi = swagger_client.LearningObjectsApi()\n",
    "\n",
    "\n",
    "try:\n",
    "    my_goals = loApi.lo_repository_controller_show_goal(goal_id=1)\n",
    "    print(my_goals)\n",
    "except ApiException as e:\n",
    "    print(\"Exception when calling Api-> %s\\n\" % e)"
   ]
  },
  {
   "cell_type": "markdown",
   "id": "a029d214-3de9-4667-a241-b06481289098",
   "metadata": {},
   "source": [
    "## goal by ID"
   ]
  },
  {
   "cell_type": "code",
   "execution_count": null,
   "id": "5e10d53b-6322-4d35-a7cf-0e9b4c0edfb3",
   "metadata": {},
   "outputs": [],
   "source": [
    "try:\n",
    "    api_response = loApi.lo_repository_controller_show_goal(goal_id=1)\n",
    "    print(api_response)\n",
    "except ApiException as e:\n",
    "    print(\"Exception when calling Api-> %s\\n\" % e)"
   ]
  },
  {
   "cell_type": "markdown",
   "id": "85fcc9ca-0fde-41dd-b019-927460829a04",
   "metadata": {},
   "source": [
    "## load LO Repo by Id"
   ]
  },
  {
   "cell_type": "code",
   "execution_count": null,
   "id": "88364c24-6654-4311-9c4f-dc489b007655",
   "metadata": {
    "tags": []
   },
   "outputs": [],
   "source": [
    "try:\n",
    "    my_lo = loApi.lo_repository_controller_load_repository(repository_id=1)\n",
    "    print(my_lo)\n",
    "except ApiException as e:\n",
    "    print(\"Exception when calling Api-> %s\\n\" % e)"
   ]
  },
  {
   "cell_type": "markdown",
   "id": "f39232f5-9826-4b30-9c78-2780486fcbed",
   "metadata": {},
   "source": [
    "## load LO by Id"
   ]
  },
  {
   "cell_type": "code",
   "execution_count": null,
   "id": "028a6d27-428c-48ad-af1c-be984295ee98",
   "metadata": {
    "tags": []
   },
   "outputs": [],
   "source": [
    "my_LO_complete = []   \n",
    "for lo in my_lo.learning_objects:    \n",
    "    try:\n",
    "        print(lo.id)\n",
    "        my_LO_complete.append(loApi.lo_repository_controller_load_learning_object (learning_object_id=lo.id))\n",
    "\n",
    "    except ApiException as e:\n",
    "        print(\"Exception when calling Api-> %s\\n\" % e)\n",
    "print(my_LO_complete)"
   ]
  },
  {
   "cell_type": "code",
   "execution_count": null,
   "id": "6cc331f4-1acb-4625-9700-7fe95ea259e7",
   "metadata": {},
   "outputs": [],
   "source": [
    "def find_comp_by_id(in_id):\n",
    "    for comp in my_competencies.competencies:\n",
    "        if (comp.id==in_id):\n",
    "            print(comp)\n",
    "            break\n",
    "def find_something_by_id(arr , id):\n",
    "            return next(x for x in arr if x.id == id )\n"
   ]
  },
  {
   "cell_type": "code",
   "execution_count": null,
   "id": "663bd302-7972-4e71-b4da-c3d35a1b2989",
   "metadata": {
    "tags": []
   },
   "outputs": [],
   "source": [
    "\n",
    "for comp in my_goals.competencies:\n",
    "    find_something_by_id(my_competencies.competencies, comp)\n",
    "\n",
    "for comp in my_goals.uber_competencies:\n",
    "    find_something_by_id(my_competencies.ueber_competencies, comp)  "
   ]
  },
  {
   "cell_type": "code",
   "execution_count": null,
   "id": "8bf1b132-cdf3-4c5e-b54c-dd138d64bef2",
   "metadata": {},
   "outputs": [],
   "source": [
    "def find_LO_for_competence(competence):\n",
    "    for lo in my_lo.learning_objects:\n",
    "        try:\n",
    "            api_response = loApi.lo_repository_controller_load_learning_object(learning_object_id=lo.id)\n",
    "            print(api_response.name)\n",
    "        except ApiException as e:\n",
    "            print(\"Exception when calling Api-> %s\\n\" % e)"
   ]
  },
  {
   "cell_type": "code",
   "execution_count": null,
   "id": "9cae0724-d916-4cea-94e9-436025f59409",
   "metadata": {},
   "outputs": [],
   "source": [
    "find_LO_for_competence('1')"
   ]
  },
  {
   "cell_type": "markdown",
   "id": "6d7ba054-0dde-4a8a-9050-56602e6c2f7d",
   "metadata": {},
   "source": [
    "## Graphen aus Daten erzeugen"
   ]
  },
  {
   "cell_type": "code",
   "execution_count": null,
   "id": "3994eb50-01ed-4fa7-946a-a4307f209412",
   "metadata": {},
   "outputs": [],
   "source": [
    "import networkx as nx\n",
    "gr = nx.DiGraph()"
   ]
  },
  {
   "cell_type": "code",
   "execution_count": null,
   "id": "ada6f261-8856-465e-938b-8ff45b591026",
   "metadata": {},
   "outputs": [],
   "source": [
    "def addEdgeforList(comp, graph ):\n",
    "    for nestedcomp in comp.nested_competencies:\n",
    "        graph.add_edge(nestedcomp.id,comp.id+'ueber', art='neestedComp' )\n",
    "    for nestedubercomp in comp.nested_ueber_competencies:    \n",
    "        graph.add_edge(nestedubercomp.id+'ueber',comp.id+'ueber', art='neestedueberComp')\n",
    "        print('add ',nestedubercomp.id+'ueber',comp.id+'ueber')\n",
    "        if nestedubercomp.nested_ueber_competencies:\n",
    "            for nestcomp in nestedubercomp.nested_ueber_competencies:\n",
    "                addEdgeforList(nestcomp, graph )"
   ]
  },
  {
   "cell_type": "code",
   "execution_count": null,
   "id": "f89ffb2b-e99f-4a6d-81e2-33ec92a843ae",
   "metadata": {},
   "outputs": [],
   "source": [
    "for comp in my_competencies.competencies:\n",
    "    gr.add_node(comp.id, name=comp.description, art='Kompetenz')\n",
    "for comp in my_competencies.ueber_competencies:\n",
    "    gr.add_node(comp.id+'ueber', name=comp.description, art='Ueber_Kompetenz')\n",
    "    addEdgeforList(comp, gr )"
   ]
  },
  {
   "cell_type": "code",
   "execution_count": null,
   "id": "b6c93b73-5c05-4655-a6da-344a2471fcad",
   "metadata": {},
   "outputs": [],
   "source": [
    "gr.nodes.data()"
   ]
  },
  {
   "cell_type": "code",
   "execution_count": null,
   "id": "8b0bf2e8-9a4d-4029-994a-dd6a17555886",
   "metadata": {
    "tags": []
   },
   "outputs": [],
   "source": [
    "print('Comp:')\n",
    "print(my_competencies.competencies)\n",
    "print('ÜberComp:')\n",
    "print(my_competencies.ueber_competencies)\n",
    "print('LO:')\n",
    "print(my_lo)\n",
    "print('LO Comp:')\n",
    "print (my_LO_complete)"
   ]
  },
  {
   "cell_type": "code",
   "execution_count": null,
   "id": "d339ca3e-8a3a-4ace-a5e0-e934009198b0",
   "metadata": {},
   "outputs": [],
   "source": [
    "gr.edges"
   ]
  },
  {
   "cell_type": "code",
   "execution_count": null,
   "id": "cccd44c0-27b2-42a1-ba43-2325f61c9de8",
   "metadata": {},
   "outputs": [],
   "source": [
    "import matplotlib.pyplot as plt\n",
    "plt.rcParams[\"figure.figsize\"] = (20,20)"
   ]
  },
  {
   "cell_type": "code",
   "execution_count": null,
   "id": "8164b2f8-641e-4e4e-817f-41095acc6084",
   "metadata": {},
   "outputs": [],
   "source": [
    "subax1 = plt.subplot(111)\n",
    "nx.draw(gr, with_labels=True, font_weight='bold')"
   ]
  },
  {
   "cell_type": "code",
   "execution_count": null,
   "id": "c7c3936b-6009-4a77-bacd-31f2b702c7a9",
   "metadata": {},
   "outputs": [],
   "source": [
    "grLO = nx.DiGraph()\n",
    "grLO.add_node('Know nothing', subset='Start')\n",
    "for comp in my_competencies.competencies:\n",
    "    grLO.add_node(comp.id, name=comp.description, subset='Kompetenz')\n",
    "for comp in my_competencies.ueber_competencies:\n",
    "    grLO.add_node(comp.id+'ueber', name=comp.description, subset='Ueber_Kompetenz')\n",
    "    addEdgeforList(comp, grLO )\n",
    "for lo in my_LO_complete:\n",
    "    grLO.add_node(lo.id+'Lo', name=lo.description, subset='LO')\n",
    "    if not lo.required_competencies:\n",
    "        if not lo.required_ueber_competencies: \n",
    "            grLO.add_edge( 'Know nothing',lo.id+'Lo', art = 'required_comp')\n",
    "    for nestcomp in lo.offered_competencies:\n",
    "        grLO.add_edge(lo.id+'Lo', nestcomp, art = 'offered_comp')\n",
    "    for nestcomp in lo.required_competencies:\n",
    "        grLO.add_edge(nestcomp,lo.id+'Lo', art = 'required_comp')    \n",
    "    for nestcomp in lo.offered_ueber_competencies:\n",
    "        grLO.add_edge(lo.id+'Lo', nestcomp+'ueber', art = 'offered_ueber_comp')\n",
    "    for nestcomp in lo.required_ueber_competencies:\n",
    "        grLO.add_edge(nestcomp+'ueber',lo.id+'Lo', art = 'required_ueber_comp')  "
   ]
  },
  {
   "cell_type": "code",
   "execution_count": null,
   "id": "feb703bd-0afd-488c-b720-f63a24048c63",
   "metadata": {},
   "outputs": [],
   "source": [
    "subax1 = plt.subplot(111)\n",
    "nx.draw(grLO, with_labels=True, font_weight='bold')"
   ]
  },
  {
   "cell_type": "code",
   "execution_count": null,
   "id": "52248587-7cdb-434d-bc0a-b26e1521c7e5",
   "metadata": {},
   "outputs": [],
   "source": []
  },
  {
   "cell_type": "code",
   "execution_count": null,
   "id": "a85c0dc0-ada6-4686-829a-11d8817bd84f",
   "metadata": {
    "tags": []
   },
   "outputs": [],
   "source": []
  },
  {
   "cell_type": "code",
   "execution_count": null,
   "id": "36a7d4a3-c524-4c2a-bef8-62952b2066c2",
   "metadata": {
    "tags": []
   },
   "outputs": [],
   "source": [
    "subax1 = plt.subplot(111)\n",
    "pos = nx.circular_layout(grLO)\n",
    "\n",
    "edges = grLO.edges()\n",
    "colors = [grLO[u][v]['art'] for u,v in edges]\n",
    "for i in range(len(colors)):\n",
    "  \n",
    "    if colors[i] == 'neestedComp':\n",
    "        colors[i] = 'r'\n",
    "  \n",
    "    if colors[i] == 'required_comp':\n",
    "        colors[i] = 'g'\n",
    "  \n",
    "    if colors[i] == 'required_ueber_comp':\n",
    "        colors[i] = 'b'\n",
    "  \n",
    "    if colors[i] == 'neestedueberComp':\n",
    "        colors[i] = 'c'\n",
    "  \n",
    "    if colors[i] == 'offered_comp':\n",
    "        colors[i] = 'm'\n",
    "  \n",
    "    if colors[i] == 'offered_ueber_comp':\n",
    "        colors[i] = 'y'\n",
    "  \n",
    "# print list\n",
    "print(colors)\n",
    "pos = nx.circular_layout(grLO)\n",
    "\n",
    "nx.draw(grLO, pos=pos,edge_color=colors, with_labels=True)"
   ]
  },
  {
   "cell_type": "code",
   "execution_count": null,
   "id": "9dcb1b66-a541-4056-8f2f-94ffd198b306",
   "metadata": {},
   "outputs": [],
   "source": [
    "grLO_reversed = nx.reverse(grLO)\n",
    "nx.draw(grLO_reversed,edge_color=colors, with_labels=True)"
   ]
  },
  {
   "cell_type": "code",
   "execution_count": null,
   "id": "9efe0fcb-306b-443b-9087-1c19aee9188a",
   "metadata": {},
   "outputs": [],
   "source": [
    "grLO_reversed.edges"
   ]
  },
  {
   "cell_type": "code",
   "execution_count": null,
   "id": "831021da-e08b-47ae-a2a2-f82dd539a4a9",
   "metadata": {
    "tags": []
   },
   "outputs": [],
   "source": [
    "paths = nx.all_simple_paths(grLO, source='Know nothing', target='9ueber', cutoff=50)"
   ]
  },
  {
   "cell_type": "code",
   "execution_count": null,
   "id": "bac6248e-a41d-45ea-8cbc-df9a72d003a4",
   "metadata": {
    "tags": []
   },
   "outputs": [],
   "source": [
    "subax1 = plt.subplot(111)\n",
    "pos = nx.circular_layout(grLO)\n",
    "\n",
    "edges = grLO.edges()\n",
    "colors = [grLO[u][v]['art'] for u,v in edges]\n",
    "for i in range(len(colors)):\n",
    "  \n",
    "    if colors[i] == 'neestedComp':\n",
    "        colors[i] = 'r'\n",
    "  \n",
    "    if colors[i] == 'required_comp':\n",
    "        colors[i] = 'g'\n",
    "  \n",
    "    if colors[i] == 'required_ueber_comp':\n",
    "        colors[i] = 'b'\n",
    "  \n",
    "    if colors[i] == 'neestedueberComp':\n",
    "        colors[i] = 'r'\n",
    "  \n",
    "    if colors[i] == 'offered_comp':\n",
    "        colors[i] = 'g'\n",
    "  \n",
    "    if colors[i] == 'offered_ueber_comp':\n",
    "        colors[i] = 'g'\n",
    "  \n",
    "# print list\n",
    "print(colors)\n",
    "\n",
    "\n",
    "\n",
    "nx.draw(grLO,pos=pos,  edge_color=colors, with_labels=True)"
   ]
  },
  {
   "cell_type": "code",
   "execution_count": null,
   "id": "baecc252-1a6a-4e48-9230-2bae0bcda952",
   "metadata": {},
   "outputs": [],
   "source": []
  },
  {
   "cell_type": "code",
   "execution_count": null,
   "id": "da774402-b823-453c-8ba2-55324ae39d45",
   "metadata": {},
   "outputs": [],
   "source": [
    "#'9ueber', '6ueber', '4ueber', '11', '10Lo', '9', '8Lo', '20', '7Lo', '6', '5Lo', '18', '4Lo', '2ueber', '2Lo', '1ueber', '1'\n",
    "nx.simple_cycles(grLO)"
   ]
  },
  {
   "cell_type": "code",
   "execution_count": null,
   "id": "9cec3702-ea83-42db-8936-777148850ee3",
   "metadata": {
    "tags": []
   },
   "outputs": [],
   "source": [
    "nx.recursive_simple_cycles(grLO)"
   ]
  },
  {
   "cell_type": "code",
   "execution_count": null,
   "id": "2d4e58a8-f994-4b06-bce1-650ed7a27ece",
   "metadata": {},
   "outputs": [],
   "source": [
    "find_something_by_id(my_LO_complete, '2')\n"
   ]
  },
  {
   "cell_type": "code",
   "execution_count": null,
   "id": "b5f09c59-b5fa-4419-bc7d-513a04ecfbb0",
   "metadata": {},
   "outputs": [],
   "source": [
    "find_something_by_id(my_competencies.competencies, '6')\n",
    "\n"
   ]
  },
  {
   "cell_type": "code",
   "execution_count": null,
   "id": "34fea13c-1e74-41fd-821a-5aa00de1df22",
   "metadata": {},
   "outputs": [],
   "source": [
    "find_something_by_id(my_competencies.ueber_competencies, '3')"
   ]
  },
  {
   "cell_type": "code",
   "execution_count": null,
   "id": "1e63cc45-03c0-470b-af57-627425915949",
   "metadata": {},
   "outputs": [],
   "source": [
    "nx.all_pairs_shortest_path(grLO)"
   ]
  },
  {
   "cell_type": "code",
   "execution_count": null,
   "id": "5e225c14-8cf4-40a5-8021-0ad06755a4f5",
   "metadata": {},
   "outputs": [],
   "source": [
    "sp = dict(nx.all_pairs_shortest_path(grLO))\n",
    "\n"
   ]
  },
  {
   "cell_type": "code",
   "execution_count": null,
   "id": "297550bb-aa51-445d-8bc9-ed19fddf8004",
   "metadata": {},
   "outputs": [],
   "source": [
    "H = nx.DiGraph(((u, v, e) for u,v,e in grLO.edges(data=True) if e['art'] == 'offered_ueber_comp'or e['art'] == 'offered_comp' or e['art'] == 'required_ueber_comp'or e['art'] == 'required_comp'))\n",
    "\n",
    "nx.draw(H,with_labels=True)\n"
   ]
  },
  {
   "cell_type": "code",
   "execution_count": null,
   "id": "d797a4f2-9d71-4ec3-93e2-61120628dd2e",
   "metadata": {},
   "outputs": [],
   "source": [
    "sorted(list(nx.descendants(H, 'Know nothing')))\n"
   ]
  },
  {
   "cell_type": "code",
   "execution_count": null,
   "id": "6871d043-9f9a-4c73-9de6-a7cbfabc4833",
   "metadata": {},
   "outputs": [],
   "source": [
    "G_reversed = nx.reverse(grLO)"
   ]
  },
  {
   "cell_type": "code",
   "execution_count": null,
   "id": "e56775c9-f10a-416f-a65e-d4ea77721499",
   "metadata": {},
   "outputs": [],
   "source": [
    "paths = nx.all_simple_paths(grLO, source='Know nothing', target='9ueber', cutoff=10)"
   ]
  },
  {
   "cell_type": "code",
   "execution_count": null,
   "id": "01bdb26a-67bd-4a6a-b130-fdcfa18e1627",
   "metadata": {
    "tags": []
   },
   "outputs": [],
   "source": [
    "print (paths)\n",
    "print(list(paths))"
   ]
  },
  {
   "cell_type": "code",
   "execution_count": null,
   "id": "d705cbcd-5298-427f-be84-42dc5b1e63e6",
   "metadata": {},
   "outputs": [],
   "source": [
    "mylist=list(nx.bfs_tree(grLO, source='Know nothing', depth_limit=20).edges())\n",
    "print(mylist)\n",
    "G=nx.from_edgelist(list(nx.bfs_tree(grLO, source='Know nothing', depth_limit=20).edges()))\n",
    "G1 = nx.DiGraph()\n",
    "G1.add_edges_from(G.edges)\n",
    "pos = nx.planar_layout(G1)\n",
    "nx.draw(G1, with_labels=True, pos = pos)"
   ]
  },
  {
   "cell_type": "code",
   "execution_count": null,
   "id": "9cb5c298-3b87-4ddc-bc4e-887b779708e4",
   "metadata": {
    "tags": []
   },
   "outputs": [],
   "source": [
    "find_something_by_id(my_LO_complete, '1')"
   ]
  },
  {
   "cell_type": "code",
   "execution_count": null,
   "id": "55dc3ea2-6ba8-4b56-ade4-8a6f96d24592",
   "metadata": {},
   "outputs": [],
   "source": [
    "lst=[]\n",
    "for x,y in mylist: \n",
    "    if x.find('Lo') != -1:\n",
    "        \n",
    "        lst.append(x) if x not in lst else lst\n",
    "print(lst)    "
   ]
  },
  {
   "cell_type": "code",
   "execution_count": null,
   "id": "ba67cd69-1128-4d3c-9629-9f7552bdd537",
   "metadata": {},
   "outputs": [],
   "source": [
    "find_something_by_id(my_LO_complete, '6')"
   ]
  },
  {
   "cell_type": "code",
   "execution_count": null,
   "id": "359c7402-4756-4e61-b100-abe24ed3a69d",
   "metadata": {},
   "outputs": [],
   "source": [
    "find_something_by_id(my_LO_complete, '17')"
   ]
  },
  {
   "cell_type": "code",
   "execution_count": null,
   "id": "ee0f2ce1-5e2f-4062-9825-369938a1d7d9",
   "metadata": {},
   "outputs": [],
   "source": [
    "find_something_by_id(my_competencies.competencies, '27')"
   ]
  },
  {
   "cell_type": "code",
   "execution_count": null,
   "id": "21c2617f-2a58-4c8a-8f22-7c97f3d51ba1",
   "metadata": {},
   "outputs": [],
   "source": [
    "\n",
    "\n",
    "from collections import defaultdict\n",
    "from operator import itemgetter\n",
    "\n",
    "\n",
    "B = nx.dag_to_branching(G1)\n",
    "sources = defaultdict(set)\n",
    "for v, source in B.nodes(data=\"source\"):\n",
    "    sources[source].add(v)\n",
    "print (sources)\n",
    "\n"
   ]
  },
  {
   "cell_type": "code",
   "execution_count": null,
   "id": "73b57dc6-1807-4b0f-888e-b23fa38099c5",
   "metadata": {},
   "outputs": [],
   "source": [
    "nx.draw(B, with_labels=True)\n",
    "\n"
   ]
  },
  {
   "cell_type": "code",
   "execution_count": null,
   "id": "5563a361-f5bd-4da6-8410-c9c365e30b87",
   "metadata": {},
   "outputs": [],
   "source": [
    "nx.draw(B, with_labels=True)"
   ]
  },
  {
   "cell_type": "code",
   "execution_count": null,
   "id": "ddfeb1e2-027d-40a2-a6d8-c10236e493f5",
   "metadata": {},
   "outputs": [],
   "source": []
  },
  {
   "cell_type": "code",
   "execution_count": null,
   "id": "3c35cee5-24e9-4a7b-ac84-1ce6557c5429",
   "metadata": {},
   "outputs": [],
   "source": []
  },
  {
   "cell_type": "code",
   "execution_count": null,
   "id": "a8fea0fa-a041-42b8-b0af-f44434525594",
   "metadata": {},
   "outputs": [],
   "source": []
  },
  {
   "cell_type": "code",
   "execution_count": null,
   "id": "0ad4e1ff-0b00-46c1-a226-41b095d7d5b8",
   "metadata": {},
   "outputs": [],
   "source": []
  },
  {
   "cell_type": "code",
   "execution_count": null,
   "id": "8eb41620-c873-4a89-9273-d6ff647fae9c",
   "metadata": {},
   "outputs": [],
   "source": []
  }
 ],
 "metadata": {
  "kernelspec": {
   "display_name": "Python 3",
   "language": "python",
   "name": "python3"
  },
  "language_info": {
   "codemirror_mode": {
    "name": "ipython",
    "version": 3
   },
   "file_extension": ".py",
   "mimetype": "text/x-python",
   "name": "python",
   "nbconvert_exporter": "python",
   "pygments_lexer": "ipython3",
   "version": "3.9.2"
  }
 },
 "nbformat": 4,
 "nbformat_minor": 5
}
